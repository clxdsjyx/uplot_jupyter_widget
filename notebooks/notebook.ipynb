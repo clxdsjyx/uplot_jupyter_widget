{
 "cells": [
  {
   "cell_type": "code",
   "execution_count": 1,
   "metadata": {
    "ExecuteTime": {
     "end_time": "2021-02-15T21:25:06.941347Z",
     "start_time": "2021-02-15T21:25:06.888319Z"
    }
   },
   "outputs": [],
   "source": [
    "%load_ext autoreload\n",
    "%autoreload 2"
   ]
  },
  {
   "cell_type": "code",
   "execution_count": 2,
   "metadata": {
    "ExecuteTime": {
     "end_time": "2021-02-15T21:27:29.367850Z",
     "start_time": "2021-02-15T21:27:28.259721Z"
    }
   },
   "outputs": [
    {
     "data": {
      "application/vnd.jupyter.widget-view+json": {
       "model_id": "9d1385f82b99408e8ed36efab05ad806",
       "version_major": 2,
       "version_minor": 0
      },
      "text/plain": [
       "VBox(children=(uPlotWidget(status='deferring flush until render'), Text(value='deferring flush until render', …"
      ]
     },
     "metadata": {},
     "output_type": "display_data"
    }
   ],
   "source": [
    "from soso.uplot_jupyter_widget import uPlotWidget\n",
    "\n",
    "data = [\n",
    "  [1546300800, 1546387200],    # x-values (timestamps)\n",
    "  [        35,         71],    # y-values (series 1)\n",
    "  [        90,         15],    # y-values (series 2)\n",
    "  [        2,         1],    # y-values (series 3)\n",
    "]\n",
    "\n",
    "opts = {\n",
    "    'title': \"Fixed length / sliding data slices\",\n",
    "    'width':  800,\n",
    "    'height': 600,\n",
    "    'cursor': {\n",
    "        'drag': {\n",
    "            'setScale': False,\n",
    "        }\n",
    "    },\n",
    "    'select': {\n",
    "        'show': False,\n",
    "    },\n",
    "    'series': [\n",
    "        {},\n",
    "        {\n",
    "            'label': \"CPU\",\n",
    "            'scale': \"%\",\n",
    "            'value': '__js_eval:(u, v) => v == null ? \"-\" : v.toFixed(1) + \"%\"',\n",
    "            'stroke': \"red\",\n",
    "        },\n",
    "        {\n",
    "            'label': \"RAM\",\n",
    "            'scale': \"%\",\n",
    "            'value': '__js_eval:(u, v) => v == null ? \"-\" : v.toFixed(1) + \"%\"',\n",
    "            'stroke': \"blue\",\n",
    "        },\n",
    "        {\n",
    "            'label': \"TCP Out\",\n",
    "            'scale': \"mb\",\n",
    "            'value': '__js_eval:(u, v) => v == null ? \"-\" : v.toFixed(2) + \" MB\"',\n",
    "            'stroke': \"green\",\n",
    "        }\n",
    "    ],\n",
    "    'axes': [\n",
    "        {},\n",
    "        {\n",
    "            'scale': '%',\n",
    "            'values': '__js_eval:(u, vals, space) => vals.map(v => +v.toFixed(1) + \"%\")',\n",
    "        },\n",
    "        {\n",
    "            'side': 1,\n",
    "            'scale': 'mb',\n",
    "            'values': '__js_eval:(u, vals, space) => vals.map(v => +v.toFixed(2) + \" MB\")',\n",
    "            'grid': {'show': False},\n",
    "        },\n",
    "    ]\n",
    " \n",
    "}\n",
    "\n",
    "plot = uPlotWidget(\n",
    "  data=data,\n",
    "  opts=opts,\n",
    "  js=\"https://raw.githubusercontent.com/leeoniya/uPlot/1.6.4/dist/uPlot.iife.min.js\",\n",
    "  css=\"https://raw.githubusercontent.com/leeoniya/uPlot/1.6.4/dist/uPlot.min.css\",\n",
    "  max_datapoints = None # set to 5 to see a difference\n",
    ")\n",
    "display(plot.debugging_display())"
   ]
  },
  {
   "cell_type": "markdown",
   "metadata": {
    "ExecuteTime": {
     "end_time": "2021-02-15T20:44:50.243739Z",
     "start_time": "2021-02-15T20:44:50.228664Z"
    }
   },
   "source": [
    "The above should look something like this when you run the cell below: ![](video.gif)"
   ]
  },
  {
   "cell_type": "code",
   "execution_count": 7,
   "metadata": {
    "ExecuteTime": {
     "end_time": "2021-02-15T21:31:05.088260Z",
     "start_time": "2021-02-15T21:31:05.058515Z"
    }
   },
   "outputs": [
    {
     "data": {
      "text/plain": [
       "<Task pending name='Task-5' coro=<doit() running at <ipython-input-7-5ec05ac7d9da>:3>>"
      ]
     },
     "execution_count": 7,
     "metadata": {},
     "output_type": "execute_result"
    }
   ],
   "source": [
    "import asyncio\n",
    "\n",
    "async def doit(original_data):\n",
    "    for j in range(2):\n",
    "        data = await plot.get_data_async()        \n",
    "        for i in range(100):\n",
    "            plot.push_data([data[0][-1]+1000*i,data[1][-1]+i+100,data[2][-1]+i+100,data[3][-1]+i+100])\n",
    "            # Setting the same data twice does not add a new entry\n",
    "            plot.push_data([data[0][-1]+1000*i,data[1][-1]+i+100,data[2][-1]+i+100,data[3][-1]+i+100])\n",
    "            await asyncio.sleep(.1)\n",
    "    plot.replace_data(original_data)\n",
    "    \n",
    "        \n",
    "asyncio.get_event_loop().create_task(doit(data))"
   ]
  }
 ],
 "metadata": {
  "hide_input": false,
  "kernelspec": {
   "display_name": "Python 3",
   "language": "python",
   "name": "python3"
  },
  "language_info": {
   "codemirror_mode": {
    "name": "ipython",
    "version": 3
   },
   "file_extension": ".py",
   "mimetype": "text/x-python",
   "name": "python",
   "nbconvert_exporter": "python",
   "pygments_lexer": "ipython3",
   "version": "3.8.7"
  }
 },
 "nbformat": 4,
 "nbformat_minor": 4
}
