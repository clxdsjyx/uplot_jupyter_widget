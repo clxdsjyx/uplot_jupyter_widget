{
 "cells": [
  {
   "cell_type": "code",
   "execution_count": 1,
   "metadata": {
    "ExecuteTime": {
     "end_time": "2021-02-14T19:21:52.423332Z",
     "start_time": "2021-02-14T19:21:52.404976Z"
    }
   },
   "outputs": [],
   "source": [
    "%load_ext autoreload\n",
    "%autoreload 2"
   ]
  },
  {
   "cell_type": "code",
   "execution_count": 3,
   "metadata": {
    "ExecuteTime": {
     "end_time": "2021-02-14T19:28:11.907563Z",
     "start_time": "2021-02-14T19:28:11.545686Z"
    }
   },
   "outputs": [
    {
     "data": {
      "application/vnd.jupyter.widget-view+json": {
       "model_id": "197348f0fdcf4aad9e1e5c672a323677",
       "version_major": 2,
       "version_minor": 0
      },
      "text/plain": [
       "uPlotWidget(status='deferring flush until render')"
      ]
     },
     "metadata": {},
     "output_type": "display_data"
    }
   ],
   "source": [
    "from soso.uplot_jupyter_widget import uPlotWidget\n",
    "\n",
    "data = [\n",
    "  [1546300800, 1546387200],    # x-values (timestamps)\n",
    "  [        35,         71],    # y-values (series 1)\n",
    "  [        90,         15],    # y-values (series 2)\n",
    "];\n",
    "\n",
    "opts = {\n",
    "  'title': \"My Chart\",\n",
    "  'id': \"chart1\",\n",
    "  'class': \"my-chart\",\n",
    "  'width': 800,\n",
    "  'height': 600,\n",
    "  'series': [\n",
    "    {},\n",
    "    {\n",
    "      # initial toggled state (optional)\n",
    "      'show': True,\n",
    "\n",
    "      'spanGaps': False,\n",
    "\n",
    "      # in-legend display\n",
    "      'label': \"RAM\",\n",
    "      'value': '__js_eval:(self, rawValue) => \"$\" + rawValue.toFixed(2)',\n",
    "\n",
    "      # series style\n",
    "      'stroke': \"red\",\n",
    "      'width': 1,\n",
    "      'fill': \"rgba(255, 0, 0, 0.3)\",\n",
    "      'dash': [10, 5],\n",
    "    }\n",
    "  ],    \n",
    "}\n",
    "\n",
    "plot = uPlotWidget(data=data,opts=opts)\n",
    "display(plot)"
   ]
  }
 ],
 "metadata": {
  "hide_input": false,
  "kernelspec": {
   "display_name": "Python 3",
   "language": "python",
   "name": "python3"
  },
  "language_info": {
   "codemirror_mode": {
    "name": "ipython",
    "version": 3
   },
   "file_extension": ".py",
   "mimetype": "text/x-python",
   "name": "python",
   "nbconvert_exporter": "python",
   "pygments_lexer": "ipython3",
   "version": "3.8.5"
  }
 },
 "nbformat": 4,
 "nbformat_minor": 4
}
